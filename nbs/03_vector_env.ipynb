{
 "cells": [
  {
   "cell_type": "code",
   "execution_count": 1,
   "metadata": {},
   "outputs": [],
   "source": [
    "%load_ext autoreload\n",
    "%autoreload 2\n",
    "\n"
   ]
  },
  {
   "cell_type": "code",
   "execution_count": 2,
   "metadata": {},
   "outputs": [
    {
     "name": "stderr",
     "output_type": "stream",
     "text": [
      "An NVIDIA GPU may be present on this machine, but a CUDA-enabled jaxlib is not installed. Falling back to cpu.\n"
     ]
    },
    {
     "name": "stdout",
     "output_type": "stream",
     "text": [
      "Loading textures from cache\n"
     ]
    }
   ],
   "source": [
    "\n",
    "import gym\n",
    "import jax\n",
    "import jax.numpy as jnp\n",
    "import chex\n",
    "import numpy as np\n",
    "from flax import struct\n",
    "from functools import partial\n",
    "from typing import Optional, Tuple, Union, Any, Dict\n",
    "from craftax.craftax_env import make_craftax_env_from_name\n",
    "from craftax.craftax.play_craftax import CraftaxRenderer\n",
    "from craftax.craftax.renderer import render_craftax_pixels, render_craftax_text, inverse_render_craftax_symbolic\n",
    "from craftax.craftax.constants import Action\n",
    "from craftax.craftax.craftax_state import EnvState\n",
    "from gymnasium.wrappers import FrameStackObservation, TimeLimit\n",
    "from gymnax.wrappers import GymnaxToGymWrapper\n",
    "import torch\n",
    "from jaxtyping import Float\n",
    "from torch import Tensor"
   ]
  },
  {
   "cell_type": "code",
   "execution_count": 3,
   "metadata": {},
   "outputs": [],
   "source": [
    "from twm.envs.craftax import create_craftax_env"
   ]
  },
  {
   "cell_type": "code",
   "execution_count": 4,
   "metadata": {},
   "outputs": [
    {
     "data": {
      "text/plain": [
       "(4, 8268)"
      ]
     },
     "execution_count": 4,
     "metadata": {},
     "output_type": "execute_result"
    }
   ],
   "source": [
    "envs = create_craftax_env(\"Craftax-Symbolic-v1\", num_envs=1, eval=True)\n",
    "envs.reset()[0].shape"
   ]
  },
  {
   "cell_type": "code",
   "execution_count": 7,
   "metadata": {},
   "outputs": [
    {
     "ename": "AssertionError",
     "evalue": "",
     "output_type": "error",
     "traceback": [
      "\u001b[0;31m---------------------------------------------------------------------------\u001b[0m",
      "\u001b[0;31mAssertionError\u001b[0m                            Traceback (most recent call last)",
      "Cell \u001b[0;32mIn[7], line 1\u001b[0m\n\u001b[0;32m----> 1\u001b[0m envs \u001b[38;5;241m=\u001b[39m \u001b[43mcreate_craftax_env\u001b[49m\u001b[43m(\u001b[49m\u001b[38;5;124;43m\"\u001b[39;49m\u001b[38;5;124;43mCraftax-Symbolic-v1\u001b[39;49m\u001b[38;5;124;43m\"\u001b[39;49m\u001b[43m,\u001b[49m\u001b[43m \u001b[49m\u001b[43mnum_envs\u001b[49m\u001b[38;5;241;43m=\u001b[39;49m\u001b[38;5;241;43m2\u001b[39;49m\u001b[43m,\u001b[49m\u001b[43m \u001b[49m\u001b[38;5;28;43meval\u001b[39;49m\u001b[38;5;241;43m=\u001b[39;49m\u001b[38;5;28;43;01mTrue\u001b[39;49;00m\u001b[43m)\u001b[49m\n\u001b[1;32m      2\u001b[0m envs\u001b[38;5;241m.\u001b[39mreset()[\u001b[38;5;241m0\u001b[39m]\u001b[38;5;241m.\u001b[39mshape\n",
      "File \u001b[0;32m/media/wassname/SGIronWolf/projects5/worldmodels/twm/twm/envs/craftax.py:145\u001b[0m, in \u001b[0;36mcreate_craftax_env\u001b[0;34m(game, frame_stack, time_limit, seed, eval, num_envs)\u001b[0m\n\u001b[1;32m    132\u001b[0m     env \u001b[38;5;241m=\u001b[39m GymnaxToGymWrapper(env, env\u001b[38;5;241m.\u001b[39mdefault_params, seed\u001b[38;5;241m=\u001b[39mseed) \n\u001b[1;32m    133\u001b[0m \u001b[38;5;66;03m# env = LogWrapper(env)\u001b[39;00m\n\u001b[1;32m    134\u001b[0m \n\u001b[1;32m    135\u001b[0m \u001b[38;5;66;03m# if not eval:\u001b[39;00m\n\u001b[0;32m   (...)\u001b[0m\n\u001b[1;32m    143\u001b[0m \n\u001b[1;32m    144\u001b[0m \u001b[38;5;66;03m# env = JaxToTorch(env)\u001b[39;00m\n\u001b[0;32m--> 145\u001b[0m env \u001b[38;5;241m=\u001b[39m \u001b[43mCraftaxRenderWrapper\u001b[49m\u001b[43m(\u001b[49m\u001b[43menv\u001b[49m\u001b[43m,\u001b[49m\u001b[43m \u001b[49m\u001b[43mrender_method\u001b[49m\u001b[38;5;241;43m=\u001b[39;49m\u001b[38;5;28;43;01mNone\u001b[39;49;00m\u001b[43m)\u001b[49m\n\u001b[1;32m    146\u001b[0m env \u001b[38;5;241m=\u001b[39m CraftaxCompatWrapper(env)\n\u001b[1;32m    148\u001b[0m \u001b[38;5;66;03m# We have to vectorise using jax earlier as there is not framestack wrapepr avaiable for jax\u001b[39;00m\n\u001b[1;32m    149\u001b[0m \u001b[38;5;66;03m# but then the framestack dim is before the env dim [framestack, batch, obs_dim] so lets swap those\u001b[39;00m\n",
      "File \u001b[0;32m/media/wassname/SGIronWolf/projects5/worldmodels/twm/twm/envs/craftax.py:82\u001b[0m, in \u001b[0;36mCraftaxRenderWrapper.__init__\u001b[0;34m(self, env, render_method)\u001b[0m\n\u001b[1;32m     81\u001b[0m \u001b[38;5;28;01mdef\u001b[39;00m \u001b[38;5;21m__init__\u001b[39m(\u001b[38;5;28mself\u001b[39m, env, render_method:Optional[\u001b[38;5;28mstr\u001b[39m]\u001b[38;5;241m=\u001b[39m\u001b[38;5;28;01mNone\u001b[39;00m) \u001b[38;5;241m-\u001b[39m\u001b[38;5;241m>\u001b[39m \u001b[38;5;28;01mNone\u001b[39;00m:\n\u001b[0;32m---> 82\u001b[0m     \u001b[38;5;28;43msuper\u001b[39;49m\u001b[43m(\u001b[49m\u001b[43m)\u001b[49m\u001b[38;5;241;43m.\u001b[39;49m\u001b[38;5;21;43m__init__\u001b[39;49m\u001b[43m(\u001b[49m\u001b[43menv\u001b[49m\u001b[43m)\u001b[49m\n\u001b[1;32m     83\u001b[0m     \u001b[38;5;28mself\u001b[39m\u001b[38;5;241m.\u001b[39mrender_method \u001b[38;5;241m=\u001b[39m render_method\n\u001b[1;32m     84\u001b[0m     \u001b[38;5;28;01mif\u001b[39;00m render_method \u001b[38;5;241m==\u001b[39m \u001b[38;5;124m'\u001b[39m\u001b[38;5;124mplay\u001b[39m\u001b[38;5;124m'\u001b[39m:\n",
      "File \u001b[0;32m/media/wassname/SGIronWolf/projects5/worldmodels/twm/.venv/lib/python3.9/site-packages/gymnasium/core.py:305\u001b[0m, in \u001b[0;36mWrapper.__init__\u001b[0;34m(self, env)\u001b[0m\n\u001b[1;32m    299\u001b[0m \u001b[38;5;250m\u001b[39m\u001b[38;5;124;03m\"\"\"Wraps an environment to allow a modular transformation of the :meth:`step` and :meth:`reset` methods.\u001b[39;00m\n\u001b[1;32m    300\u001b[0m \n\u001b[1;32m    301\u001b[0m \u001b[38;5;124;03mArgs:\u001b[39;00m\n\u001b[1;32m    302\u001b[0m \u001b[38;5;124;03m    env: The environment to wrap\u001b[39;00m\n\u001b[1;32m    303\u001b[0m \u001b[38;5;124;03m\"\"\"\u001b[39;00m\n\u001b[1;32m    304\u001b[0m \u001b[38;5;28mself\u001b[39m\u001b[38;5;241m.\u001b[39menv \u001b[38;5;241m=\u001b[39m env\n\u001b[0;32m--> 305\u001b[0m \u001b[38;5;28;01massert\u001b[39;00m \u001b[38;5;28misinstance\u001b[39m(env, Env)\n\u001b[1;32m    307\u001b[0m \u001b[38;5;28mself\u001b[39m\u001b[38;5;241m.\u001b[39m_action_space: spaces\u001b[38;5;241m.\u001b[39mSpace[WrapperActType] \u001b[38;5;241m|\u001b[39m \u001b[38;5;28;01mNone\u001b[39;00m \u001b[38;5;241m=\u001b[39m \u001b[38;5;28;01mNone\u001b[39;00m\n\u001b[1;32m    308\u001b[0m \u001b[38;5;28mself\u001b[39m\u001b[38;5;241m.\u001b[39m_observation_space: spaces\u001b[38;5;241m.\u001b[39mSpace[WrapperObsType] \u001b[38;5;241m|\u001b[39m \u001b[38;5;28;01mNone\u001b[39;00m \u001b[38;5;241m=\u001b[39m \u001b[38;5;28;01mNone\u001b[39;00m\n",
      "\u001b[0;31mAssertionError\u001b[0m: "
     ]
    }
   ],
   "source": [
    "envs = create_craftax_env(\"Craftax-Symbolic-v1\", num_envs=2, eval=True)\n",
    "envs.reset()[0].shape"
   ]
  },
  {
   "cell_type": "code",
   "execution_count": null,
   "metadata": {},
   "outputs": [],
   "source": [
    "envs = create_craftax_env(\"Craftax-Symbolic-v1\", num_envs=1, eval=False)\n",
    "envs.reset()[0].shape"
   ]
  },
  {
   "cell_type": "code",
   "execution_count": null,
   "metadata": {},
   "outputs": [],
   "source": [
    "envs = create_craftax_env(\"Craftax-Symbolic-v1\", num_envs=2, eval=False)\n",
    "envs.reset()[0].shape"
   ]
  },
  {
   "cell_type": "markdown",
   "metadata": {},
   "source": [
    "### Scratch"
   ]
  },
  {
   "cell_type": "code",
   "execution_count": null,
   "metadata": {},
   "outputs": [],
   "source": [
    "from twm.envs.craftax import CraftaxCompatWrapper, CraftaxRenderWrapper  , OptimisticResetVecEnvWrapper, BatchEnvWrapper, LogWrapper, PermuteObsWrapper, permute_env\n",
    "from gymnax.wrappers import GymnaxToGymWrapper, GymnaxToVectorGymWrapper\n",
    "\n",
    "\n",
    "# class PermuteObs(TransformObservation):\n",
    "#     def __init__(self, env: gym.Env, permutation: Tuple[int, ...]):\n",
    "#         self.permutation = permutation\n",
    "#         super().__init__(env)\n",
    "\n",
    "#     def observation(self, observation: np.ndarray) -> np.ndarray:\n",
    "#         return observation.transpose(self.permutation)\n",
    "\n",
    "#     def observation_space(self, observation_space: gym.Space) -> gym.Space:\n",
    "#         return gym.spaces.Box(\n",
    "#             low=np.moveaxis(observation_space.low, self.permutation, range(len(self.permutation))),\n",
    "#             high=np.moveaxis(observation_space.high, self.permutation, range(len(self.permutation))),\n",
    "#             dtype=observation_space.dtype,\n",
    "#         )\n",
    "\n",
    "#     def observation_space(self, observation_space: gym.Space) -> gym.Space:\n",
    "#         return gym.spaces.Box(\n",
    "#             low=np.moveaxis(observation_space.low, self.permutation, range(len(self.permutation))),\n",
    "#             high=np.moveaxis(observation_space.high, self.permutation, range(len(self.permutation))),\n",
    "#             dtype=observation_space.dtype,\n",
    "#         )\n",
    "\n",
    "#     def observation(self, observation: np.ndarray) -> np.ndarray:\n",
    "#         return observation.transpose(self.permutation)\n",
    "\n",
    "def create_craftax_env(game, noop_max=30, frame_skip=4, frame_stack=4, frame_size=84,\n",
    "                     episodic_lives=True, grayscale=True, time_limit=27000, seed=42, eval=False, num_envs=1):\n",
    "    \"\"\"\n",
    "    Craftax with\n",
    "    - frame_stack 4?\n",
    "    time_limit = 27000\n",
    "    \n",
    "    \"\"\"\n",
    "    game = \"Craftax-Symbolic-v1\"\n",
    "    # see https://github.dev/MichaelTMatthews/Craftax_Baselines/blob/main/ppo_rnn.py\n",
    "    # env = make_craftax_env_from_name(game, auto_reset=eval)\n",
    "    env = make_craftax_env_from_name(game, auto_reset=True)\n",
    "    # env = LogWrapper(env)\n",
    "    # if not eval:\n",
    "    #     env = OptimisticResetVecEnvWrapper(\n",
    "    #         env,\n",
    "    #         num_envs=num_envs,\n",
    "    #         reset_ratio=min(not eval, True),\n",
    "    #     )\n",
    "    # else:\n",
    "    #     env = BatchEnvWrapper(env, num_envs=num_envs)\n",
    "    env = GymnaxToVectorGymWrapper(env, seed=seed, num_envs=num_envs) \n",
    "    # FIXME: sort this out\n",
    "    env = CraftaxRenderWrapper(env, render_method=None)\n",
    "    env = CraftaxCompatWrapper(env)\n",
    "\n",
    "    # We have to vectorise using jax earlier as there is not framestack wrapepr avaiable for jax\n",
    "    # but then the framestack dim is before the env dim [framestack, batch, obs_dim] so lets swap those\n",
    "    env = gym.wrappers.FrameStack(env, frame_stack)\n",
    "    env = permute_env(env, [1, 0, 2])\n",
    "    \n",
    "    # env = make_craftax_env_from_name(game, auto_reset=True)\n",
    "    # env = Gymax2GymWrapper(env, render_method=None)\n",
    "    \n",
    "    env.unwrapped.spec = gym.spec(game) # required for AtariPreprocessing\n",
    "    env = gym.wrappers.TimeLimit(env, max_episode_steps=time_limit)\n",
    "    return env\n",
    "\n",
    "\n",
    "envs = create_craftax_env(\"Craftax-Symbolic-v1\", num_envs=2, eval=True)\n",
    "envs"
   ]
  },
  {
   "cell_type": "code",
   "execution_count": null,
   "metadata": {},
   "outputs": [],
   "source": [
    "envs.step(0)"
   ]
  },
  {
   "cell_type": "markdown",
   "metadata": {},
   "source": [
    "# with traine"
   ]
  },
  {
   "cell_type": "markdown",
   "metadata": {},
   "source": [
    "self = trainer = Trainer(\n",
    "    model=model,\n",
    "    args=training_args,\n",
    "    train_dataset=train_dataset\n",
    ")\n",
    "\n",
    "trainer._pretrain()\n",
    "eval_metrics = trainer._evaluate(is_final=False)"
   ]
  },
  {
   "cell_type": "code",
   "execution_count": null,
   "metadata": {},
   "outputs": [],
   "source": [
    "rng = jax.random.PRNGKey(0)\n",
    "rng, _rng = jax.random.split(rng)\n",
    "rngs = jax.random.split(_rng, 3)\n",
    "\n",
    "# Create environment\n",
    "env = make_craftax_env_from_name(\"Craftax-Symbolic-v1\", auto_reset=True)\n",
    "env_params = env.default_params\n",
    "\n",
    "# Get an initial state and observation\n",
    "obs, state = env.reset(rngs[0], env_params)\n",
    "\n",
    "# Pick random action\n",
    "action = env.action_space(env_params).sample(rngs[1])\n",
    "\n",
    "# Step environment\n",
    "obs, state, reward, done, info = env.step(rngs[2], state, action, env_params)"
   ]
  },
  {
   "cell_type": "code",
   "execution_count": null,
   "metadata": {},
   "outputs": [],
   "source": [
    "env.observation_space(1).dtype"
   ]
  },
  {
   "cell_type": "code",
   "execution_count": null,
   "metadata": {},
   "outputs": [],
   "source": [
    "obs[(obs<1) & (obs>0)]"
   ]
  },
  {
   "cell_type": "code",
   "execution_count": null,
   "metadata": {},
   "outputs": [],
   "source": [
    "action"
   ]
  },
  {
   "cell_type": "code",
   "execution_count": null,
   "metadata": {},
   "outputs": [],
   "source": [
    "reward, done, info"
   ]
  },
  {
   "cell_type": "code",
   "execution_count": null,
   "metadata": {},
   "outputs": [],
   "source": []
  }
 ],
 "metadata": {
  "kernelspec": {
   "display_name": ".venv",
   "language": "python",
   "name": "python3"
  },
  "language_info": {
   "codemirror_mode": {
    "name": "ipython",
    "version": 3
   },
   "file_extension": ".py",
   "mimetype": "text/x-python",
   "name": "python",
   "nbconvert_exporter": "python",
   "pygments_lexer": "ipython3",
   "version": "3.11.0"
  }
 },
 "nbformat": 4,
 "nbformat_minor": 2
}
