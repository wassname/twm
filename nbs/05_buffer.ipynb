{
 "cells": [
  {
   "cell_type": "code",
   "execution_count": 2,
   "metadata": {},
   "outputs": [],
   "source": [
    "from twm.replay_buffer import ReplayBuffer\n",
    "# from torchrl.data.replay_buffer import ReplayBuffer as TorchRLReplayBuffer"
   ]
  },
  {
   "cell_type": "code",
   "execution_count": 6,
   "metadata": {},
   "outputs": [
    {
     "data": {
      "text/plain": [
       "{'buffer_capacity': 3000,\n",
       " 'buffer_temperature': 20.0,\n",
       " 'buffer_prefill': 1000,\n",
       " 'train_it_budget': 10000,\n",
       " 'pretrain_it_budget': 5000,\n",
       " 'pretrain_obs_p': 0.4,\n",
       " 'pretrain_dyn_p': 0.6,\n",
       " 'eval_every': 500,\n",
       " 'eval_episodes': 10,\n",
       " 'final_eval_episodes': 100,\n",
       " 'env_step_budget': 1000000000,\n",
       " 'env_frame_size': 8268,\n",
       " 'env_frame_skip': 1,\n",
       " 'env_frame_stack': 2,\n",
       " 'env_grayscale': True,\n",
       " 'env_noop_max': 30,\n",
       " 'env_time_limit': 270,\n",
       " 'env_episodic_lives': True,\n",
       " 'env_reward_transform': 'tanh',\n",
       " 'env_discount_factor': 0.99,\n",
       " 'env_discount_lambda': 0.95,\n",
       " 'wm_batch_size': 8,\n",
       " 'wm_sequence_length': 8,\n",
       " 'wm_train_steps': 1,\n",
       " 'wm_memory_length': 16,\n",
       " 'wm_discount_threshold': 0.1,\n",
       " 'z_categoricals': 32,\n",
       " 'z_categories': 32,\n",
       " 'obs_channels': 48,\n",
       " 'obs_act': 'silu',\n",
       " 'obs_norm': 'none',\n",
       " 'obs_dropout': 0,\n",
       " 'obs_lr': 0.0001,\n",
       " 'obs_wd': 1e-06,\n",
       " 'obs_eps': 1e-05,\n",
       " 'obs_grad_clip': 100,\n",
       " 'obs_entropy_coef': 5,\n",
       " 'obs_entropy_threshold': 0.1,\n",
       " 'obs_consistency_coef': 0.01,\n",
       " 'obs_decoder_coef': 1,\n",
       " 'dyn_embed_dim': 256,\n",
       " 'dyn_num_heads': 4,\n",
       " 'dyn_num_layers': 10,\n",
       " 'dyn_feedforward_dim': 1024,\n",
       " 'dyn_head_dim': 64,\n",
       " 'dyn_z_dims': [512, 512, 512, 512],\n",
       " 'dyn_reward_dims': [256, 256, 256, 256],\n",
       " 'dyn_discount_dims': [256, 256, 256, 256],\n",
       " 'dyn_input_rewards': True,\n",
       " 'dyn_input_discounts': False,\n",
       " 'dyn_act': 'silu',\n",
       " 'dyn_norm': 'none',\n",
       " 'dyn_dropout': 0.1,\n",
       " 'dyn_lr': 0.0001,\n",
       " 'dyn_wd': 1e-06,\n",
       " 'dyn_eps': 1e-05,\n",
       " 'dyn_grad_clip': 100,\n",
       " 'dyn_z_coef': 1,\n",
       " 'dyn_reward_coef': 10,\n",
       " 'dyn_discount_coef': 50,\n",
       " 'ac_batch_size': 8,\n",
       " 'ac_horizon': 15,\n",
       " 'ac_act': 'silu',\n",
       " 'ac_norm': 'none',\n",
       " 'ac_dropout': 0,\n",
       " 'ac_input_h': False,\n",
       " 'ac_h_norm': 'none',\n",
       " 'ac_normalize_advantages': False,\n",
       " 'actor_dims': [512, 512, 512, 512],\n",
       " 'actor_lr': 0.0001,\n",
       " 'actor_eps': 1e-05,\n",
       " 'actor_wd': 1e-06,\n",
       " 'actor_entropy_coef': 0.01,\n",
       " 'actor_entropy_threshold': 0.1,\n",
       " 'actor_grad_clip': 1,\n",
       " 'critic_dims': [512, 512, 512, 512],\n",
       " 'critic_lr': 1e-05,\n",
       " 'critic_eps': 1e-05,\n",
       " 'critic_wd': 1e-06,\n",
       " 'critic_grad_clip': 1,\n",
       " 'critic_target_interval': 1,\n",
       " 'game': 'Breakout'}"
      ]
     },
     "execution_count": 6,
     "metadata": {},
     "output_type": "execute_result"
    }
   ],
   "source": [
    "from copy import deepcopy\n",
    "from twm.config import CONFIGS\n",
    "config = deepcopy(CONFIGS['test'])\n",
    "config.update({\n",
    "    'game': 'Breakout', \n",
    "    # 'seed': args.seed, 'model_device': args.device, 'buffer_device': buffer_device,\n",
    "    # 'cpu_p': args.cpu_p, 'save': args.save\n",
    "})\n",
    "config"
   ]
  },
  {
   "cell_type": "code",
   "execution_count": 8,
   "metadata": {},
   "outputs": [
    {
     "name": "stderr",
     "output_type": "stream",
     "text": [
      "/media/wassname/SGIronWolf/projects5/worldmodels/twm_llm/.venv/lib/python3.11/site-packages/tqdm/auto.py:21: TqdmWarning: IProgress not found. Please update jupyter and ipywidgets. See https://ipywidgets.readthedocs.io/en/stable/user_install.html\n",
      "  from .autonotebook import tqdm as notebook_tqdm\n",
      "An NVIDIA GPU may be present on this machine, but a CUDA-enabled jaxlib is not installed. Falling back to cpu.\n"
     ]
    },
    {
     "name": "stdout",
     "output_type": "stream",
     "text": [
      "Loading textures from cache\n"
     ]
    },
    {
     "ename": "KeyError",
     "evalue": "'buffer_device'",
     "output_type": "error",
     "traceback": [
      "\u001b[0;31m---------------------------------------------------------------------------\u001b[0m",
      "\u001b[0;31mKeyError\u001b[0m                                  Traceback (most recent call last)",
      "Cell \u001b[0;32mIn[8], line 2\u001b[0m\n\u001b[1;32m      1\u001b[0m \u001b[38;5;28;01mfrom\u001b[39;00m \u001b[38;5;21;01mtwm\u001b[39;00m\u001b[38;5;21;01m.\u001b[39;00m\u001b[38;5;21;01mtrainer\u001b[39;00m \u001b[38;5;28;01mimport\u001b[39;00m Trainer\n\u001b[0;32m----> 2\u001b[0m trainer \u001b[38;5;241m=\u001b[39m \u001b[43mTrainer\u001b[49m\u001b[43m(\u001b[49m\u001b[43mconfig\u001b[49m\u001b[43m)\u001b[49m\n",
      "File \u001b[0;32m/media/wassname/SGIronWolf/projects5/worldmodels/twm_llm/twm/trainer.py:37\u001b[0m, in \u001b[0;36mTrainer.__init__\u001b[0;34m(self, config)\u001b[0m\n\u001b[1;32m     35\u001b[0m \u001b[38;5;28mself\u001b[39m\u001b[38;5;241m.\u001b[39mconfig \u001b[38;5;241m=\u001b[39m config\n\u001b[1;32m     36\u001b[0m \u001b[38;5;28mself\u001b[39m\u001b[38;5;241m.\u001b[39menv \u001b[38;5;241m=\u001b[39m \u001b[38;5;28mself\u001b[39m\u001b[38;5;241m.\u001b[39m_create_env_from_config(config)\n\u001b[0;32m---> 37\u001b[0m \u001b[38;5;28mself\u001b[39m\u001b[38;5;241m.\u001b[39mreplay_buffer \u001b[38;5;241m=\u001b[39m \u001b[43mReplayBuffer\u001b[49m\u001b[43m(\u001b[49m\u001b[43mconfig\u001b[49m\u001b[43m,\u001b[49m\u001b[43m \u001b[49m\u001b[38;5;28;43mself\u001b[39;49m\u001b[38;5;241;43m.\u001b[39;49m\u001b[43menv\u001b[49m\u001b[43m)\u001b[49m\n\u001b[1;32m     39\u001b[0m num_actions \u001b[38;5;241m=\u001b[39m \u001b[38;5;28mself\u001b[39m\u001b[38;5;241m.\u001b[39menv\u001b[38;5;241m.\u001b[39maction_space\u001b[38;5;241m.\u001b[39mn\n\u001b[1;32m     40\u001b[0m \u001b[38;5;28mself\u001b[39m\u001b[38;5;241m.\u001b[39maction_meanings \u001b[38;5;241m=\u001b[39m \u001b[38;5;28mself\u001b[39m\u001b[38;5;241m.\u001b[39menv\u001b[38;5;241m.\u001b[39mget_action_meanings()\n",
      "File \u001b[0;32m/media/wassname/SGIronWolf/projects5/worldmodels/twm_llm/twm/replay_buffer.py:17\u001b[0m, in \u001b[0;36mReplayBuffer.__init__\u001b[0;34m(self, config, env)\u001b[0m\n\u001b[1;32m     14\u001b[0m \u001b[38;5;28mself\u001b[39m\u001b[38;5;241m.\u001b[39mconfig \u001b[38;5;241m=\u001b[39m config\n\u001b[1;32m     15\u001b[0m \u001b[38;5;28mself\u001b[39m\u001b[38;5;241m.\u001b[39menv \u001b[38;5;241m=\u001b[39m env\n\u001b[0;32m---> 17\u001b[0m device \u001b[38;5;241m=\u001b[39m \u001b[43mconfig\u001b[49m\u001b[43m[\u001b[49m\u001b[38;5;124;43m\"\u001b[39;49m\u001b[38;5;124;43mbuffer_device\u001b[39;49m\u001b[38;5;124;43m\"\u001b[39;49m\u001b[43m]\u001b[49m\n\u001b[1;32m     18\u001b[0m \u001b[38;5;28mself\u001b[39m\u001b[38;5;241m.\u001b[39mdevice \u001b[38;5;241m=\u001b[39m torch\u001b[38;5;241m.\u001b[39mdevice(device)\n\u001b[1;32m     19\u001b[0m \u001b[38;5;28mself\u001b[39m\u001b[38;5;241m.\u001b[39mprev_seed \u001b[38;5;241m=\u001b[39m (config[\u001b[38;5;124m\"\u001b[39m\u001b[38;5;124mseed\u001b[39m\u001b[38;5;124m\"\u001b[39m] \u001b[38;5;241m+\u001b[39m \u001b[38;5;241m1\u001b[39m) \u001b[38;5;241m*\u001b[39m \u001b[38;5;241m79\u001b[39m\n",
      "\u001b[0;31mKeyError\u001b[0m: 'buffer_device'"
     ]
    }
   ],
   "source": [
    "from twm.trainer import Trainer\n",
    "trainer = Trainer(config)"
   ]
  },
  {
   "cell_type": "code",
   "execution_count": null,
   "metadata": {},
   "outputs": [
    {
     "ename": "TypeError",
     "evalue": "ReplayBuffer.__init__() missing 2 required positional arguments: 'config' and 'env'",
     "output_type": "error",
     "traceback": [
      "\u001b[0;31m---------------------------------------------------------------------------\u001b[0m",
      "\u001b[0;31mTypeError\u001b[0m                                 Traceback (most recent call last)",
      "Cell \u001b[0;32mIn[5], line 1\u001b[0m\n\u001b[0;32m----> 1\u001b[0m \u001b[43mReplayBuffer\u001b[49m\u001b[43m(\u001b[49m\u001b[43m)\u001b[49m\n",
      "\u001b[0;31mTypeError\u001b[0m: ReplayBuffer.__init__() missing 2 required positional arguments: 'config' and 'env'"
     ]
    }
   ],
   "source": [
    "trainer.replay_buffer"
   ]
  },
  {
   "cell_type": "code",
   "execution_count": null,
   "metadata": {},
   "outputs": [],
   "source": []
  }
 ],
 "metadata": {
  "kernelspec": {
   "display_name": ".venv",
   "language": "python",
   "name": "python3"
  },
  "language_info": {
   "codemirror_mode": {
    "name": "ipython",
    "version": 3
   },
   "file_extension": ".py",
   "mimetype": "text/x-python",
   "name": "python",
   "nbconvert_exporter": "python",
   "pygments_lexer": "ipython3",
   "version": "3.11.0rc1"
  }
 },
 "nbformat": 4,
 "nbformat_minor": 2
}
