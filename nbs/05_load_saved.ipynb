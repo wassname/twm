{
 "cells": [
  {
   "cell_type": "markdown",
   "metadata": {},
   "source": [
    "# Scratch with loaded model"
   ]
  },
  {
   "cell_type": "code",
   "execution_count": 1,
   "metadata": {},
   "outputs": [],
   "source": [
    "from copy import deepcopy\n",
    "from pathlib import Path\n",
    "import torch\n",
    "\n",
    "from twm.replay_buffer import ReplayBuffer\n",
    "from twm.config import CONFIGS"
   ]
  },
  {
   "cell_type": "markdown",
   "metadata": {},
   "source": [
    "## Load"
   ]
  },
  {
   "cell_type": "code",
   "execution_count": 2,
   "metadata": {},
   "outputs": [
    {
     "name": "stdout",
     "output_type": "stream",
     "text": [
      "[PosixPath('../wandb/run-20240601_075812-0l0foh9u/files/agent_0.pt'), PosixPath('../wandb/run-20240601_075812-0l0foh9u/files/files/agent_0.pt'), PosixPath('../wandb/run-20240601_075812-0l0foh9u/files/agent_10000.pt'), PosixPath('../wandb/run-20240601_075812-0l0foh9u/files/files/agent_10000.pt'), PosixPath('../wandb/run-20240601_075812-0l0foh9u/files/agent_20000.pt'), PosixPath('../wandb/run-20240601_075812-0l0foh9u/files/files/agent_20000.pt'), PosixPath('../wandb/run-20240601_075812-0l0foh9u/files/agent_30000.pt'), PosixPath('../wandb/run-20240601_075812-0l0foh9u/files/files/agent_30000.pt'), PosixPath('../wandb/run-20240601_075812-0l0foh9u/files/agent_40000.pt'), PosixPath('../wandb/run-20240601_075812-0l0foh9u/files/files/agent_40000.pt'), PosixPath('../wandb/run-20240601_075812-0l0foh9u/files/agent_50000.pt'), PosixPath('../wandb/run-20240601_075812-0l0foh9u/files/files/agent_50000.pt'), PosixPath('../wandb/run-20240601_075812-0l0foh9u/files/agent_final.pt'), PosixPath('../wandb/run-20240601_075812-0l0foh9u/files/files/agent_final.pt'), PosixPath('../wandb/run-20240601_113918-ctz0yebk/files/agent_0.pt'), PosixPath('../wandb/run-20240601_113918-ctz0yebk/files/files/agent_0.pt'), PosixPath('../wandb/run-20240601_113918-ctz0yebk/files/agent_100000.pt'), PosixPath('../wandb/run-20240601_113918-ctz0yebk/files/files/agent_100000.pt'), PosixPath('../wandb/run-20240601_113918-ctz0yebk/files/agent_200000.pt'), PosixPath('../wandb/run-20240601_113918-ctz0yebk/files/files/agent_200000.pt'), PosixPath('../wandb/run-20240601_113918-ctz0yebk/files/agent_300000.pt'), PosixPath('../wandb/run-20240601_113918-ctz0yebk/files/files/agent_300000.pt'), PosixPath('../wandb/run-20240601_113918-ctz0yebk/files/agent_400000.pt'), PosixPath('../wandb/run-20240601_113918-ctz0yebk/files/files/agent_400000.pt'), PosixPath('../wandb/run-20240601_113918-ctz0yebk/files/agent_500000.pt'), PosixPath('../wandb/run-20240601_113918-ctz0yebk/files/files/agent_500000.pt'), PosixPath('../wandb/run-20240601_113918-ctz0yebk/files/agent_600000.pt'), PosixPath('../wandb/run-20240601_113918-ctz0yebk/files/files/agent_600000.pt'), PosixPath('../wandb/run-20240601_113918-ctz0yebk/files/agent_700000.pt'), PosixPath('../wandb/run-20240601_113918-ctz0yebk/files/files/agent_700000.pt'), PosixPath('../wandb/run-20240601_113918-ctz0yebk/files/agent_800000.pt'), PosixPath('../wandb/run-20240601_113918-ctz0yebk/files/files/agent_800000.pt'), PosixPath('../wandb/run-20240601_113918-ctz0yebk/files/agent_900000.pt'), PosixPath('../wandb/run-20240601_113918-ctz0yebk/files/files/agent_900000.pt'), PosixPath('../wandb/run-20240601_113918-ctz0yebk/files/agent_final.pt'), PosixPath('../wandb/run-20240601_113918-ctz0yebk/files/files/agent_final.pt')]\n"
     ]
    },
    {
     "data": {
      "text/plain": [
       "PosixPath('../wandb/run-20240601_113918-ctz0yebk/files/files/agent_final.pt')"
      ]
     },
     "execution_count": 2,
     "metadata": {},
     "output_type": "execute_result"
    }
   ],
   "source": [
    "# get the latest save\n",
    "saves = list(Path('../wandb/').glob('**/agent_*.pt'))\n",
    "saves = sorted(saves, key=lambda x: x.stat().st_mtime)\n",
    "print(saves)\n",
    "save = saves[-1]\n",
    "\n",
    "save = Path('../wandb/run-20240601_113918-ctz0yebk/files/files/agent_final.pt')\n",
    "save\n"
   ]
  },
  {
   "cell_type": "code",
   "execution_count": 3,
   "metadata": {},
   "outputs": [
    {
     "name": "stdout",
     "output_type": "stream",
     "text": [
      "dict_keys(['config', 'state_dict'])\n"
     ]
    }
   ],
   "source": [
    "state = torch.load(save)\n",
    "print(state.keys())\n",
    "config = state['config']\n",
    "config['model_device'] = 'cpu'"
   ]
  },
  {
   "cell_type": "code",
   "execution_count": 4,
   "metadata": {},
   "outputs": [
    {
     "name": "stderr",
     "output_type": "stream",
     "text": [
      "/media/wassname/SGIronWolf/projects5/worldmodels/twm_llm/.venv/lib/python3.11/site-packages/tqdm/auto.py:21: TqdmWarning: IProgress not found. Please update jupyter and ipywidgets. See https://ipywidgets.readthedocs.io/en/stable/user_install.html\n",
      "  from .autonotebook import tqdm as notebook_tqdm\n",
      "An NVIDIA GPU may be present on this machine, but a CUDA-enabled jaxlib is not installed. Falling back to cpu.\n"
     ]
    },
    {
     "name": "stdout",
     "output_type": "stream",
     "text": [
      "Loading textures from cache\n"
     ]
    },
    {
     "data": {
      "text/plain": [
       "Agent(\n",
       "  (wm): WorldModel(\n",
       "    (obs_model): ObservationModel(\n",
       "      (encoder): Sequential(\n",
       "        (0): Flatten(start_dim=1, end_dim=-1)\n",
       "        (1): MLP(\n",
       "          (act): SiLU()\n",
       "          (linear1): Linear(in_features=16536, out_features=512, bias=True)\n",
       "          (linear2): Linear(in_features=512, out_features=512, bias=True)\n",
       "          (linear3): Linear(in_features=512, out_features=4096, bias=True)\n",
       "        )\n",
       "      )\n",
       "      (decoder): Sequential(\n",
       "        (0): MLP(\n",
       "          (act): SiLU()\n",
       "          (linear1): Linear(in_features=4096, out_features=512, bias=True)\n",
       "          (linear2): Linear(in_features=512, out_features=512, bias=True)\n",
       "          (linear3): Linear(in_features=512, out_features=16536, bias=True)\n",
       "        )\n",
       "        (1): Unflatten(dim=1, unflattened_size=(2, 8268))\n",
       "      )\n",
       "    )\n",
       "    (dyn_model): DynamicsModel(\n",
       "      (prediction_net): PredictionNet(\n",
       "        (embeds): ModuleDict(\n",
       "          (z): MLP(\n",
       "            (act): SiLU()\n",
       "            (linear1): Linear(in_features=4096, out_features=256, bias=True)\n",
       "            (dropout): Dropout(p=0.1, inplace=False)\n",
       "          )\n",
       "          (a): Embedding(43, 256)\n",
       "          (r): MLP(\n",
       "            (act): SiLU()\n",
       "            (linear1): Linear(in_features=1, out_features=256, bias=True)\n",
       "            (dropout): Dropout(p=0.1, inplace=False)\n",
       "          )\n",
       "        )\n",
       "        (transformer): TransformerXLDecoder(\n",
       "          (layers): ModuleList(\n",
       "            (0-9): 10 x TransformerXLDecoderLayer(\n",
       "              (self_attn): RelativeMultiheadSelfAttention(\n",
       "                (qkv_proj): Linear(in_features=256, out_features=768, bias=False)\n",
       "                (pos_proj): Linear(in_features=256, out_features=256, bias=False)\n",
       "                (out_proj): Linear(in_features=256, out_features=256, bias=False)\n",
       "                (dropout): Dropout(p=0.1, inplace=False)\n",
       "              )\n",
       "              (linear1): Linear(in_features=256, out_features=1024, bias=True)\n",
       "              (linear2): Linear(in_features=1024, out_features=256, bias=True)\n",
       "              (norm1): LayerNorm((256,), eps=1e-05, elementwise_affine=True)\n",
       "              (norm2): LayerNorm((256,), eps=1e-05, elementwise_affine=True)\n",
       "              (act): SiLU()\n",
       "              (dropout): Dropout(p=0.1, inplace=False)\n",
       "            )\n",
       "          )\n",
       "          (pos_enc): PositionalEncoding(\n",
       "            (dropout): Dropout(p=0.1, inplace=False)\n",
       "          )\n",
       "        )\n",
       "        (out_heads): ModuleDict(\n",
       "          (z): MLP(\n",
       "            (act): SiLU()\n",
       "            (linear1): Linear(in_features=256, out_features=512, bias=True)\n",
       "            (linear2): Linear(in_features=512, out_features=512, bias=True)\n",
       "            (linear3): Linear(in_features=512, out_features=512, bias=True)\n",
       "            (linear4): Linear(in_features=512, out_features=512, bias=True)\n",
       "            (linear5): Linear(in_features=512, out_features=4096, bias=True)\n",
       "            (dropout): Dropout(p=0.1, inplace=False)\n",
       "          )\n",
       "          (r): MLP(\n",
       "            (act): SiLU()\n",
       "            (linear1): Linear(in_features=256, out_features=256, bias=True)\n",
       "            (linear2): Linear(in_features=256, out_features=256, bias=True)\n",
       "            (linear3): Linear(in_features=256, out_features=256, bias=True)\n",
       "            (linear4): Linear(in_features=256, out_features=256, bias=True)\n",
       "            (linear5): Linear(in_features=256, out_features=1, bias=True)\n",
       "            (dropout): Dropout(p=0.1, inplace=False)\n",
       "          )\n",
       "          (g): MLP(\n",
       "            (act): SiLU()\n",
       "            (linear1): Linear(in_features=256, out_features=256, bias=True)\n",
       "            (linear2): Linear(in_features=256, out_features=256, bias=True)\n",
       "            (linear3): Linear(in_features=256, out_features=256, bias=True)\n",
       "            (linear4): Linear(in_features=256, out_features=256, bias=True)\n",
       "            (linear5): Linear(in_features=256, out_features=1, bias=True)\n",
       "            (dropout): Dropout(p=0.1, inplace=False)\n",
       "          )\n",
       "        )\n",
       "      )\n",
       "    )\n",
       "  )\n",
       "  (ac): ActorCritic(\n",
       "    (h_norm): Identity()\n",
       "    (trunk): Identity()\n",
       "    (actor_model): MLP(\n",
       "      (act): SiLU()\n",
       "      (linear1): Linear(in_features=4096, out_features=512, bias=True)\n",
       "      (linear2): Linear(in_features=512, out_features=512, bias=True)\n",
       "      (linear3): Linear(in_features=512, out_features=512, bias=True)\n",
       "      (linear4): Linear(in_features=512, out_features=512, bias=True)\n",
       "      (linear5): Linear(in_features=512, out_features=43, bias=True)\n",
       "    )\n",
       "    (critic_model): MLP(\n",
       "      (act): SiLU()\n",
       "      (linear1): Linear(in_features=4096, out_features=512, bias=True)\n",
       "      (linear2): Linear(in_features=512, out_features=512, bias=True)\n",
       "      (linear3): Linear(in_features=512, out_features=512, bias=True)\n",
       "      (linear4): Linear(in_features=512, out_features=512, bias=True)\n",
       "      (linear5): Linear(in_features=512, out_features=1, bias=True)\n",
       "    )\n",
       "  )\n",
       ")"
      ]
     },
     "execution_count": 4,
     "metadata": {},
     "output_type": "execute_result"
    }
   ],
   "source": [
    "from twm.trainer import Trainer\n",
    "trainer = Trainer(config)\n",
    "trainer.agent.load_state_dict(state['state_dict'])\n",
    "trainer.agent.eval()\n",
    "agent = trainer.agent\n",
    "agent"
   ]
  },
  {
   "cell_type": "code",
   "execution_count": 5,
   "metadata": {},
   "outputs": [],
   "source": [
    "env = trainer._create_env_from_config(config)\n",
    "o,_  = env.reset()"
   ]
  },
  {
   "cell_type": "code",
   "execution_count": 12,
   "metadata": {},
   "outputs": [
    {
     "data": {
      "text/plain": [
       "tensor(616)"
      ]
     },
     "execution_count": 12,
     "metadata": {},
     "output_type": "execute_result"
    }
   ],
   "source": [
    "# it's pretty sparse\n",
    "(o>0).sum()"
   ]
  },
  {
   "cell_type": "code",
   "execution_count": 13,
   "metadata": {},
   "outputs": [
    {
     "data": {
      "text/plain": [
       "torch.Size([2, 8268])"
      ]
     },
     "execution_count": 13,
     "metadata": {},
     "output_type": "execute_result"
    }
   ],
   "source": [
    "o.shape"
   ]
  },
  {
   "cell_type": "code",
   "execution_count": 14,
   "metadata": {},
   "outputs": [
    {
     "data": {
      "text/plain": [
       "(tensor([[[0., 0., 0.,  ..., 0., 0., 0.]]]),\n",
       " None,\n",
       " tensor([[[0., 0., 0.,  ..., 0., 0., 0.]]]),\n",
       " tensor([], size=(1, 0)),\n",
       " tensor([], size=(1, 0), dtype=torch.bool))"
      ]
     },
     "execution_count": 14,
     "metadata": {},
     "output_type": "execute_result"
    }
   ],
   "source": [
    "from twm.agent import Agent, Dreamer\n",
    "dreamer = Dreamer(\n",
    "    config, agent.wm, mode=\"observe\", ac=agent.ac, store_data=False\n",
    ")\n",
    "dreamer.observe_reset_single(o[None, None])"
   ]
  },
  {
   "cell_type": "code",
   "execution_count": 23,
   "metadata": {},
   "outputs": [
    {
     "data": {
      "text/plain": [
       "(tensor([[[0., 0., 0.,  ..., 0., 0., 0.]]]),\n",
       " None,\n",
       " tensor([[0.9900]]),\n",
       " tensor([[False]]),\n",
       " tensor([[1.]]))"
      ]
     },
     "execution_count": 23,
     "metadata": {},
     "output_type": "execute_result"
    }
   ],
   "source": [
    "a = dreamer.act(epsilon=0)\n",
    "o, r, terminated, truncated, info = env.step(a.item())\n",
    "\n",
    "device = next(iter(agent.wm.parameters())).device\n",
    "o = o.unsqueeze(0).unsqueeze(1).to(device).float()\n",
    "r = torch.as_tensor([[r]], dtype=torch.float, device=device)\n",
    "terminated = torch.as_tensor([[terminated]], device=device)\n",
    "truncated = torch.as_tensor([[terminated]], device=device)\n",
    "\n",
    "z_dream, h_dream, g_dream, d_dream, weights_dream = dreamer.observe_step(a, o, r, terminated, truncated)"
   ]
  },
  {
   "cell_type": "code",
   "execution_count": 42,
   "metadata": {},
   "outputs": [
    {
     "data": {
      "image/png": "[encoded data removed]",
      "text/plain": [
       "<PIL.Image.Image image mode=RGB size=110x130>"
      ]
     },
     "execution_count": 42,
     "metadata": {},
     "output_type": "execute_result"
    }
   ],
   "source": [
    "o = agent.wm.obs_model.decode(dreamer.prev_z)\n",
    "from PIL import ImageDraw\n",
    "from twm import utils\n",
    "from einops import rearrange\n",
    "from twm.envs.craftax import craftax_symobs_to_img\n",
    "img = craftax_symobs_to_img(o.detach(), env.unwrapped.env_state).squeeze(2)[0][0][-1]\n",
    "img = rearrange(img, 'h w c -> c h w') / 255.0\n",
    "recon_img = utils.to_image(img)\n",
    "recon_img"
   ]
  },
  {
   "cell_type": "code",
   "execution_count": 41,
   "metadata": {},
   "outputs": [
    {
     "data": {
      "text/plain": [
       "torch.Size([130, 110, 3])"
      ]
     },
     "execution_count": 41,
     "metadata": {},
     "output_type": "execute_result"
    }
   ],
   "source": []
  },
  {
   "cell_type": "markdown",
   "metadata": {},
   "source": [
    "## Scratch"
   ]
  },
  {
   "cell_type": "markdown",
   "metadata": {},
   "source": [
    "## Torchinfo"
   ]
  },
  {
   "cell_type": "code",
   "execution_count": null,
   "metadata": {},
   "outputs": [],
   "source": [
    "from torchinfo import summary\n",
    "\n",
    "agent.wm\n",
    "agent.ac\n",
    "\n",
    "batch_size = 16\n",
    "summary(model, input_size=(batch_size, 1, 28, 28))"
   ]
  },
  {
   "cell_type": "code",
   "execution_count": null,
   "metadata": {},
   "outputs": [],
   "source": [
    "wm = trainer.agent.wm\n",
    "obs_model = wm.obs_model\n",
    "dyn_model = wm.dyn_model\n",
    "\n",
    "wm.eval()\n",
    "with torch.no_grad():\n",
    "    context_z_dist = obs_model.encode(o[:, :1])\n",
    "    context_z = obs_model.sample_z(context_z_dist)\n",
    "    next_z_dist = obs_model.encode(o[:, -1:])\n",
    "    next_logits = next_z_dist.base_dist.logits\n",
    "    \n",
    "z_dist = obs_model.encode(o)\n",
    "z = obs_model.sample_z(z_dist, reparameterized=True)\n",
    "recons = obs_model.decode(z)\n",
    "\n",
    "# dynamics model\n",
    "z = z.detach()\n",
    "z = torch.cat([context_z, z], dim=1)\n",
    "d = torch.logical_or(terminated, truncated)\n",
    "g = wm.to_discounts(terminated)\n",
    "\n",
    "tgt_length = z.shape[1]\n",
    "\n",
    "preds, h, mems = dyn_model.predict(\n",
    "    z, a, r[:, :-1], g[:, :-1], d[:, :-1], tgt_length, compute_consistency=True\n",
    ")"
   ]
  }
 ],
 "metadata": {
  "kernelspec": {
   "display_name": ".venv",
   "language": "python",
   "name": "python3"
  },
  "language_info": {
   "codemirror_mode": {
    "name": "ipython",
    "version": 3
   },
   "file_extension": ".py",
   "mimetype": "text/x-python",
   "name": "python",
   "nbconvert_exporter": "python",
   "pygments_lexer": "ipython3",
   "version": "3.11.0rc1"
  }
 },
 "nbformat": 4,
 "nbformat_minor": 2
}
