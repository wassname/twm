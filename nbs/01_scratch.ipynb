{
 "cells": [
  {
   "cell_type": "code",
   "execution_count": 1,
   "metadata": {},
   "outputs": [],
   "source": [
    "%load_ext autoreload\n",
    "%autoreload 2"
   ]
  },
  {
   "cell_type": "code",
   "execution_count": 2,
   "metadata": {},
   "outputs": [],
   "source": [
    "# experimenting... https://docs.kidger.site/jaxtyping/api/runtime-type-checking/\n",
    "from jaxtyping import install_import_hook\n",
    "from beartype import beartype as typechecker\n",
    "with install_import_hook(\"main\", \"beartype.beartype\"):\n",
    "    from twm import utils\n",
    "\n",
    "    from twm.config import CONFIGS\n",
    "\n",
    "    "
   ]
  },
  {
   "cell_type": "code",
   "execution_count": 3,
   "metadata": {},
   "outputs": [
    {
     "data": {
      "text/plain": [
       "{'buffer_capacity': 100000,\n",
       " 'buffer_temperature': 20.0,\n",
       " 'buffer_prefill': 5000,\n",
       " 'budget': 1000000000,\n",
       " 'pretrain_budget': 50000,\n",
       " 'pretrain_obs_p': 0.6,\n",
       " 'pretrain_dyn_p': 0.3,\n",
       " 'eval_every': 500,\n",
       " 'eval_episodes': 10,\n",
       " 'final_eval_episodes': 100,\n",
       " 'env_frame_size': 64,\n",
       " 'env_frame_skip': 4,\n",
       " 'env_frame_stack': 4,\n",
       " 'env_grayscale': True,\n",
       " 'env_noop_max': 30,\n",
       " 'env_time_limit': 2700,\n",
       " 'env_episodic_lives': True,\n",
       " 'env_reward_transform': 'tanh',\n",
       " 'env_discount_factor': 0.99,\n",
       " 'env_discount_lambda': 0.95,\n",
       " 'wm_batch_size': 100,\n",
       " 'wm_sequence_length': 16,\n",
       " 'wm_train_steps': 1,\n",
       " 'wm_memory_length': 16,\n",
       " 'wm_discount_threshold': 0.1,\n",
       " 'z_categoricals': 32,\n",
       " 'z_categories': 32,\n",
       " 'obs_channels': 48,\n",
       " 'obs_act': 'silu',\n",
       " 'obs_norm': 'none',\n",
       " 'obs_dropout': 0,\n",
       " 'obs_lr': 0.0001,\n",
       " 'obs_wd': 1e-06,\n",
       " 'obs_eps': 1e-05,\n",
       " 'obs_grad_clip': 100,\n",
       " 'obs_entropy_coef': 5,\n",
       " 'obs_entropy_threshold': 0.1,\n",
       " 'obs_consistency_coef': 0.01,\n",
       " 'obs_decoder_coef': 1,\n",
       " 'dyn_embed_dim': 256,\n",
       " 'dyn_num_heads': 4,\n",
       " 'dyn_num_layers': 10,\n",
       " 'dyn_feedforward_dim': 1024,\n",
       " 'dyn_head_dim': 64,\n",
       " 'dyn_z_dims': [512, 512, 512, 512],\n",
       " 'dyn_reward_dims': [256, 256, 256, 256],\n",
       " 'dyn_discount_dims': [256, 256, 256, 256],\n",
       " 'dyn_input_rewards': True,\n",
       " 'dyn_input_discounts': False,\n",
       " 'dyn_act': 'silu',\n",
       " 'dyn_norm': 'none',\n",
       " 'dyn_dropout': 0.1,\n",
       " 'dyn_lr': 0.0001,\n",
       " 'dyn_wd': 1e-06,\n",
       " 'dyn_eps': 1e-05,\n",
       " 'dyn_grad_clip': 100,\n",
       " 'dyn_z_coef': 1,\n",
       " 'dyn_reward_coef': 10,\n",
       " 'dyn_discount_coef': 50,\n",
       " 'ac_batch_size': 400,\n",
       " 'ac_horizon': 15,\n",
       " 'ac_act': 'silu',\n",
       " 'ac_norm': 'none',\n",
       " 'ac_dropout': 0,\n",
       " 'ac_input_h': False,\n",
       " 'ac_h_norm': 'none',\n",
       " 'ac_normalize_advantages': False,\n",
       " 'actor_dims': [512, 512, 512, 512],\n",
       " 'actor_lr': 0.0001,\n",
       " 'actor_eps': 1e-05,\n",
       " 'actor_wd': 1e-06,\n",
       " 'actor_entropy_coef': 0.01,\n",
       " 'actor_entropy_threshold': 0.1,\n",
       " 'actor_grad_clip': 1,\n",
       " 'critic_dims': [512, 512, 512, 512],\n",
       " 'critic_lr': 1e-05,\n",
       " 'critic_eps': 1e-05,\n",
       " 'critic_wd': 1e-06,\n",
       " 'critic_grad_clip': 1,\n",
       " 'critic_target_interval': 1,\n",
       " 'game': 'Breakout'}"
      ]
     },
     "execution_count": 3,
     "metadata": {},
     "output_type": "execute_result"
    }
   ],
   "source": [
    "from copy import deepcopy\n",
    "config = deepcopy(CONFIGS['test'])\n",
    "config.update({\n",
    "    'game': 'Breakout', \n",
    "    # 'seed': args.seed, 'model_device': args.device, 'buffer_device': buffer_device,\n",
    "    # 'cpu_p': args.cpu_p, 'save': args.save\n",
    "})\n",
    "config"
   ]
  },
  {
   "cell_type": "code",
   "execution_count": 4,
   "metadata": {},
   "outputs": [
    {
     "ename": "AttributeError",
     "evalue": "module 'twm.utils' has no attribute 'create_atari_env'",
     "output_type": "error",
     "traceback": [
      "\u001b[0;31m---------------------------------------------------------------------------\u001b[0m",
      "\u001b[0;31mAttributeError\u001b[0m                            Traceback (most recent call last)",
      "Cell \u001b[0;32mIn[4], line 2\u001b[0m\n\u001b[1;32m      1\u001b[0m noop_max \u001b[38;5;241m=\u001b[39m \u001b[38;5;241m0\u001b[39m \u001b[38;5;28;01mif\u001b[39;00m \u001b[38;5;28meval\u001b[39m \u001b[38;5;28;01melse\u001b[39;00m config[\u001b[38;5;124m'\u001b[39m\u001b[38;5;124menv_noop_max\u001b[39m\u001b[38;5;124m'\u001b[39m]\n\u001b[0;32m----> 2\u001b[0m env \u001b[38;5;241m=\u001b[39m \u001b[43mutils\u001b[49m\u001b[38;5;241;43m.\u001b[39;49m\u001b[43mcreate_atari_env\u001b[49m(\n\u001b[1;32m      3\u001b[0m     config[\u001b[38;5;124m'\u001b[39m\u001b[38;5;124mgame\u001b[39m\u001b[38;5;124m'\u001b[39m], noop_max, config[\u001b[38;5;124m'\u001b[39m\u001b[38;5;124menv_frame_skip\u001b[39m\u001b[38;5;124m'\u001b[39m], config[\u001b[38;5;124m'\u001b[39m\u001b[38;5;124menv_frame_stack\u001b[39m\u001b[38;5;124m'\u001b[39m],\n\u001b[1;32m      4\u001b[0m     config[\u001b[38;5;124m'\u001b[39m\u001b[38;5;124menv_frame_size\u001b[39m\u001b[38;5;124m'\u001b[39m], config[\u001b[38;5;124m'\u001b[39m\u001b[38;5;124menv_episodic_lives\u001b[39m\u001b[38;5;124m'\u001b[39m], config[\u001b[38;5;124m'\u001b[39m\u001b[38;5;124menv_grayscale\u001b[39m\u001b[38;5;124m'\u001b[39m], config[\u001b[38;5;124m'\u001b[39m\u001b[38;5;124menv_time_limit\u001b[39m\u001b[38;5;124m'\u001b[39m])\n\u001b[1;32m      5\u001b[0m obs, _ \u001b[38;5;241m=\u001b[39m env\u001b[38;5;241m.\u001b[39mreset()\n\u001b[1;32m      6\u001b[0m obs\u001b[38;5;241m.\u001b[39mshape\n",
      "\u001b[0;31mAttributeError\u001b[0m: module 'twm.utils' has no attribute 'create_atari_env'"
     ]
    }
   ],
   "source": [
    "noop_max = 0 if eval else config['env_noop_max']\n",
    "env = utils.create_atari_env(\n",
    "    config['game'], noop_max, config['env_frame_skip'], config['env_frame_stack'],\n",
    "    config['env_frame_size'], config['env_episodic_lives'], config['env_grayscale'], config['env_time_limit'])\n",
    "obs, _ = env.reset()\n",
    "obs.shape"
   ]
  },
  {
   "cell_type": "code",
   "execution_count": 14,
   "metadata": {},
   "outputs": [
    {
     "name": "stdout",
     "output_type": "stream",
     "text": [
      "Loading textures from cache\n"
     ]
    },
    {
     "name": "stderr",
     "output_type": "stream",
     "text": [
      "/media/wassname/SGIronWolf/projects5/worldmodels/twm/.venv/lib/python3.9/site-packages/jax/_src/numpy/array_methods.py:68: UserWarning: Explicitly requested dtype <class 'jax.numpy.int64'> requested in astype is not available, and will be truncated to dtype int32. To enable more dtypes, set the jax_enable_x64 configuration option or the JAX_ENABLE_X64 shell environment variable. See https://github.com/google/jax#current-gotchas for more.\n",
      "  return lax_numpy.astype(arr, dtype, copy=copy, device=device)\n"
     ]
    },
    {
     "data": {
      "text/plain": [
       "((),\n",
       " (8268,),\n",
       " Array(0., dtype=float32),\n",
       " Array(False, dtype=bool),\n",
       " {'discount': Array(1., dtype=float32, weak_type=True)})"
      ]
     },
     "execution_count": 14,
     "metadata": {},
     "output_type": "execute_result"
    }
   ],
   "source": [
    "# # Create environment\n",
    "# from craftax.craftax_env import make_craftax_env_from_name\n",
    "# env = make_craftax_env_from_name(\"Craftax-Symbolic-v1\", auto_reset=True)\n",
    "# env_params = env.default_params\n",
    "\n",
    "# import jax\n",
    "# rng = jax.random.PRNGKey(0)\n",
    "# rng, _rng = jax.random.split(rng)\n",
    "# rngs = jax.random.split(_rng, 3)\n",
    "# rngs\n",
    "\n",
    "# # Get an initial state and observation\n",
    "# obs, state = env.reset(rngs[0], env_params)\n",
    "\n",
    "# # Pick random action\n",
    "# action = env.action_space(env_params).sample(rngs[1])\n",
    "\n",
    "# # Step environment\n",
    "# obs, state, reward, done, info = env.step(rngs[2], state, action, env_params)\n",
    "\n",
    "# action.shape, obs.shape, reward, done, info"
   ]
  },
  {
   "cell_type": "code",
   "execution_count": 20,
   "metadata": {},
   "outputs": [
    {
     "data": {
      "text/plain": [
       "(array([[7.96e+03, 3.00e+00, 0.00e+00, 0.00e+00, 0.00e+00, 0.00e+00,\n",
       "         0.00e+00, 1.00e+00, 0.00e+00, 3.04e+02],\n",
       "        [7.96e+03, 3.00e+00, 0.00e+00, 0.00e+00, 0.00e+00, 0.00e+00,\n",
       "         0.00e+00, 1.00e+00, 0.00e+00, 3.04e+02],\n",
       "        [7.96e+03, 3.00e+00, 0.00e+00, 0.00e+00, 0.00e+00, 0.00e+00,\n",
       "         0.00e+00, 1.00e+00, 0.00e+00, 3.04e+02],\n",
       "        [7.96e+03, 3.00e+00, 0.00e+00, 0.00e+00, 0.00e+00, 0.00e+00,\n",
       "         0.00e+00, 1.00e+00, 0.00e+00, 3.04e+02]]),\n",
       " array([0.        , 0.1       , 0.2       , 0.30000001, 0.40000001,\n",
       "        0.5       , 0.60000002, 0.69999999, 0.80000001, 0.89999998,\n",
       "        1.        ]),\n",
       " <a list of 4 BarContainer objects>)"
      ]
     },
     "execution_count": 20,
     "metadata": {},
     "output_type": "execute_result"
    },
    {
     "data": {
      "image/png": "[encoded data removed]",
      "text/plain": [
       "<Figure size 640x480 with 1 Axes>"
      ]
     },
     "metadata": {},
     "output_type": "display_data"
    }
   ],
   "source": [
    "from matplotlib import pyplot as plt\n",
    "plt.hist(obs)"
   ]
  },
  {
   "cell_type": "code",
   "execution_count": 18,
   "metadata": {},
   "outputs": [
    {
     "data": {
      "text/plain": [
       "(4, 8268)"
      ]
     },
     "execution_count": 18,
     "metadata": {},
     "output_type": "execute_result"
    }
   ],
   "source": [
    "from twm.envs.craftax import create_craftax_env\n",
    "noop_max = 0 if eval else config['env_noop_max']\n",
    "env = create_craftax_env(\n",
    "    config['game'], noop_max, config['env_frame_skip'], config['env_frame_stack'],\n",
    "    config['env_frame_size'], config['env_episodic_lives'], config['env_grayscale'], config['env_time_limit'])\n",
    "obs, _ = env.reset()\n",
    "obs.shape"
   ]
  },
  {
   "cell_type": "markdown",
   "metadata": {},
   "source": [
    "## Encoder decoder"
   ]
  },
  {
   "cell_type": "code",
   "execution_count": 22,
   "metadata": {},
   "outputs": [
    {
     "data": {
      "text/plain": [
       "(torch.Size([1, 2, 64, 64]), torch.Size([1, 32]), torch.Size([1, 2, 64, 64]))"
      ]
     },
     "execution_count": 22,
     "metadata": {},
     "output_type": "execute_result"
    }
   ],
   "source": [
    "# A trainable layer that takes us from the obs input to the latent space\n",
    "from twm import nets\n",
    "\n",
    "import torch\n",
    "import torch.nn.functional as F\n",
    "from torch import nn, Tensor\n",
    "\n",
    "z_dim = 32\n",
    "num_channels = 2\n",
    "dropout_p= 0\n",
    "h = 3\n",
    "norm = 'none'\n",
    "activation = 'relu'\n",
    "encoder = nn.Sequential(\n",
    "    nets.CNN(num_channels, [h, h * 2, h * 4], h * 8,\n",
    "                [4, 4, 4, 4], [2, 2, 2, 2], [0, 0, 0, 0], activation, norm=norm, post_activation=True),\n",
    "    nn.Flatten(),\n",
    "    nets.MLP((h * 8) * 2 * 2, [512, 512], z_dim, activation, norm=norm, dropout_p=dropout_p)\n",
    ")\n",
    "\n",
    "# no norm here\n",
    "decoder = nn.Sequential(\n",
    "    nets.MLP(z_dim, [], (h * 16) * 1 * 1, activation, dropout_p=dropout_p, post_activation=True),\n",
    "    nn.Unflatten(1, (h * 16, 1, 1)),\n",
    "    nets.TransposeCNN(h * 16, [h * 4, h * 2, h], num_channels, [5, 5, 6, 6], [2, 2, 2, 2], [0, 0, 0, 0],\n",
    "                        activation, final_bias_init=0.5)\n",
    ")\n",
    "\n",
    "x = torch.randn(1, num_channels, 64, 64)\n",
    "z = encoder(x)\n",
    "x_hat = decoder(z)\n",
    "x.shape, z.shape, x_hat.shape"
   ]
  },
  {
   "cell_type": "code",
   "execution_count": 30,
   "metadata": {},
   "outputs": [
    {
     "name": "stdout",
     "output_type": "stream",
     "text": [
      "Sequential(\n",
      "  (0): Flatten(start_dim=1, end_dim=-1)\n",
      "  (1): MLP(\n",
      "    (act): ReLU()\n",
      "    (linear1): Linear(in_features=35772, out_features=512, bias=True)\n",
      "    (linear2): Linear(in_features=512, out_features=512, bias=True)\n",
      "    (linear3): Linear(in_features=512, out_features=32, bias=True)\n",
      "  )\n",
      ")\n"
     ]
    },
    {
     "data": {
      "text/plain": [
       "(torch.Size([1, 4, 8943]), torch.Size([1, 32]), torch.Size([1, 35772, 64, 64]))"
      ]
     },
     "execution_count": 30,
     "metadata": {},
     "output_type": "execute_result"
    }
   ],
   "source": [
    "z_dim = 32\n",
    "num_channels = 4 * 8943\n",
    "dropout_p= 0\n",
    "h = 32\n",
    "norm = 'none'\n",
    "activation = 'relu'\n",
    "encoder = nn.Sequential(\n",
    "    nn.Flatten(),\n",
    "    nets.MLP(num_channels, [512, 512], z_dim, activation, norm=norm, dropout_p=dropout_p)\n",
    ")\n",
    "print(encoder)\n",
    "\n",
    "# no norm here\n",
    "decoder = nn.Sequential(\n",
    "    nets.MLP(z_dim, [], (h * 16) * 1 * 1, activation, dropout_p=dropout_p, post_activation=True),\n",
    "    nn.Unflatten(1, (h * 16, 1, 1)),\n",
    "    nets.TransposeCNN(h * 16, [h * 4, h * 2, h], num_channels, [5, 5, 6, 6], [2, 2, 2, 2], [0, 0, 0, 0],\n",
    "                        activation, final_bias_init=0.5)\n",
    ")\n",
    "\n",
    "x = torch.randn(1, 4, 8943)\n",
    "z = encoder(x)\n",
    "x_hat = decoder(z)\n",
    "x.shape, z.shape, x_hat.shape"
   ]
  },
  {
   "cell_type": "code",
   "execution_count": 89,
   "metadata": {},
   "outputs": [
    {
     "name": "stderr",
     "output_type": "stream",
     "text": [
      "/media/wassname/SGIronWolf/projects5/worldmodels/twm/.venv/lib/python3.9/site-packages/torch/nn/utils/weight_norm.py:30: UserWarning: torch.nn.utils.weight_norm is deprecated in favor of torch.nn.utils.parametrizations.weight_norm.\n",
      "  warnings.warn(\"torch.nn.utils.weight_norm is deprecated in favor of torch.nn.utils.parametrizations.weight_norm.\")\n"
     ]
    }
   ],
   "source": [
    "x = torch.randn(1, 10)\n",
    "l1 = nn.Linear(10, 5, bias=True)\n",
    "l1 = torch.nn.utils.weight_norm(l1, 'weight', 1)\n",
    "# l1.weight.data = l1.weight.data / l1.weight.data.norm(dim=1, keepdim=True)"
   ]
  },
  {
   "cell_type": "code",
   "execution_count": 91,
   "metadata": {},
   "outputs": [
    {
     "name": "stdout",
     "output_type": "stream",
     "text": [
      "Parameter containing:\n",
      "tensor([-0.1614, -0.0878, -0.1413,  0.0030, -0.0044], requires_grad=True)\n"
     ]
    },
    {
     "data": {
      "text/plain": [
       "(torch.Size([1, 10]),\n",
       " torch.Size([1, 10]),\n",
       " tensor(0.7295, grad_fn=<MeanBackward0>))"
      ]
     },
     "execution_count": 91,
     "metadata": {},
     "output_type": "execute_result"
    }
   ],
   "source": [
    "class InvLinear(nn.Module):\n",
    "    \"\"\"This in an inverse to another linear layer\"\"\"\n",
    "\n",
    "    def __init__(self, linear):\n",
    "        super().__init__()\n",
    "        self.linear = linear\n",
    "\n",
    "    def forward(self, x):\n",
    "        if self.linear.bias is not None:\n",
    "            print(self.linear.bias)\n",
    "            x = x - self.linear.bias\n",
    "        return F.linear(x, self.linear.weight.T)\n",
    "        # return x @ self.linear.weight.data.T\n",
    "    \n",
    "\n",
    "\n",
    "l2 = InvLinear(l1)\n",
    "\n",
    "y = l1(x)\n",
    "z = l2(y)\n",
    "x.shape, z.shape, (x - z).abs().mean()"
   ]
  },
  {
   "cell_type": "code",
   "execution_count": null,
   "metadata": {},
   "outputs": [],
   "source": []
  },
  {
   "cell_type": "code",
   "execution_count": 64,
   "metadata": {},
   "outputs": [
    {
     "data": {
      "text/plain": [
       "(tensor([[-1.8850, -0.2433,  0.1431, -2.8678, -0.7606, -0.4953, -0.9287, -1.1206,\n",
       "          -0.6896, -0.2894]]),\n",
       " tensor([[-0.1270, -0.1363, -0.0358, -0.2114, -0.2823,  0.0127,  0.0935,  0.0243,\n",
       "          -0.2868, -0.0372]], grad_fn=<MmBackward0>))"
      ]
     },
     "execution_count": 64,
     "metadata": {},
     "output_type": "execute_result"
    }
   ],
   "source": [
    "x, z"
   ]
  },
  {
   "cell_type": "code",
   "execution_count": 97,
   "metadata": {},
   "outputs": [
    {
     "name": "stdout",
     "output_type": "stream",
     "text": [
      "Sequential(\n",
      "  (0): Flatten(start_dim=1, end_dim=-1)\n",
      "  (1): MLP(\n",
      "    (act): ReLU()\n",
      "    (linear1): Linear(in_features=35772, out_features=512, bias=True)\n",
      "    (linear2): Linear(in_features=512, out_features=512, bias=True)\n",
      "    (linear3): Linear(in_features=512, out_features=32, bias=True)\n",
      "  )\n",
      ")\n"
     ]
    },
    {
     "data": {
      "text/plain": [
       "(torch.Size([1, 4, 8943]), torch.Size([1, 32]), torch.Size([1, 4, 8943]))"
      ]
     },
     "execution_count": 97,
     "metadata": {},
     "output_type": "execute_result"
    }
   ],
   "source": [
    "z_dim = 32\n",
    "frames = 4\n",
    "num_channels = 4 * 8943\n",
    "dropout_p= 0\n",
    "h = 32\n",
    "norm = 'none'\n",
    "activation = 'relu'\n",
    "\n",
    "# note could also tie weight, but that would limit flexibility\n",
    "encoder = nn.Sequential(\n",
    "    nn.Flatten(),\n",
    "    nets.MLP(num_channels, [512, 512], z_dim, activation, norm=norm, dropout_p=dropout_p)\n",
    ")\n",
    "print(encoder)\n",
    "\n",
    "# no norm here\n",
    "decoder = nn.Sequential(\n",
    "    nets.MLP(z_dim, [], num_channels, activation, dropout_p=dropout_p, post_activation=True),\n",
    "    nn.Unflatten(1, (4, num_channels//4)),\n",
    ")\n",
    "\n",
    "x = torch.randn(1, 4, 8943)\n",
    "z = encoder(x)\n",
    "x_hat = decoder(z)\n",
    "x.shape, z.shape, x_hat.shape"
   ]
  },
  {
   "cell_type": "code",
   "execution_count": 3,
   "metadata": {},
   "outputs": [
    {
     "name": "stderr",
     "output_type": "stream",
     "text": [
      "100%|██████████| 100/100 [00:00<00:00, 168243.24it/s]"
     ]
    },
    {
     "name": "stdout",
     "output_type": "stream",
     "text": [
      "1\n",
      "1\n",
      "1\n",
      "1\n",
      "1\n",
      "1\n",
      "1\n",
      "1\n",
      "1\n",
      "1\n",
      "1\n",
      "1\n",
      "1\n",
      "1\n",
      "1\n",
      "1\n",
      "1\n",
      "1\n",
      "1\n",
      "1\n",
      "1\n",
      "1\n",
      "1\n",
      "1\n",
      "1\n",
      "1\n",
      "1\n",
      "1\n",
      "1\n",
      "1\n",
      "1\n",
      "1\n",
      "1\n",
      "1\n",
      "1\n",
      "1\n",
      "1\n",
      "1\n",
      "1\n",
      "1\n",
      "1\n",
      "1\n",
      "1\n",
      "1\n",
      "1\n",
      "1\n",
      "1\n",
      "1\n",
      "1\n",
      "1\n",
      "1\n",
      "1\n",
      "1\n",
      "1\n",
      "1\n",
      "1\n",
      "1\n",
      "1\n",
      "1\n",
      "1\n",
      "1\n",
      "1\n",
      "1\n",
      "1\n",
      "1\n",
      "1\n",
      "1\n",
      "1\n",
      "1\n",
      "1\n",
      "1\n",
      "1\n",
      "1\n",
      "1\n",
      "1\n",
      "1\n",
      "1\n",
      "1\n",
      "1\n",
      "1\n",
      "1\n",
      "1\n",
      "1\n",
      "1\n",
      "1\n",
      "1\n",
      "1\n",
      "1\n",
      "1\n",
      "1\n",
      "1\n",
      "1\n",
      "1\n",
      "1\n",
      "1\n",
      "1\n",
      "1\n",
      "1\n",
      "1\n",
      "1\n"
     ]
    },
    {
     "name": "stderr",
     "output_type": "stream",
     "text": [
      "\n"
     ]
    }
   ],
   "source": [
    "from tqdm import tqdm\n",
    "with tqdm(total=100) as pbar:\n",
    "    for i in range(100):\n",
    "        pbar.update(1)"
   ]
  },
  {
   "cell_type": "code",
   "execution_count": null,
   "metadata": {},
   "outputs": [],
   "source": []
  }
 ],
 "metadata": {
  "kernelspec": {
   "display_name": ".venv",
   "language": "python",
   "name": "python3"
  },
  "language_info": {
   "codemirror_mode": {
    "name": "ipython",
    "version": 3
   },
   "file_extension": ".py",
   "mimetype": "text/x-python",
   "name": "python",
   "nbconvert_exporter": "python",
   "pygments_lexer": "ipython3",
   "version": "3.11.0rc1"
  }
 },
 "nbformat": 4,
 "nbformat_minor": 2
}
