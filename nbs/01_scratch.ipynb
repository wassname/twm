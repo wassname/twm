{
 "cells": [
  {
   "cell_type": "code",
   "execution_count": 6,
   "metadata": {},
   "outputs": [
    {
     "name": "stdout",
     "output_type": "stream",
     "text": [
      "The autoreload extension is already loaded. To reload it, use:\n",
      "  %reload_ext autoreload\n"
     ]
    }
   ],
   "source": [
    "%load_ext autoreload\n",
    "%autoreload 2"
   ]
  },
  {
   "cell_type": "code",
   "execution_count": 7,
   "metadata": {},
   "outputs": [],
   "source": [
    "# experimenting... https://docs.kidger.site/jaxtyping/api/runtime-type-checking/\n",
    "from jaxtyping import install_import_hook\n",
    "from beartype import beartype as typechecker\n",
    "with install_import_hook(\"main\", \"beartype.beartype\"):\n",
    "    from twm import utils\n",
    "\n",
    "    from twm.config import CONFIGS\n",
    "\n",
    "    "
   ]
  },
  {
   "cell_type": "code",
   "execution_count": 8,
   "metadata": {},
   "outputs": [
    {
     "data": {
      "text/plain": [
       "{'buffer_capacity': 100000,\n",
       " 'buffer_temperature': 20.0,\n",
       " 'buffer_prefill': 5000,\n",
       " 'budget': 1000000000,\n",
       " 'pretrain_budget': 50000,\n",
       " 'pretrain_obs_p': 0.6,\n",
       " 'pretrain_dyn_p': 0.3,\n",
       " 'eval_every': 500,\n",
       " 'eval_episodes': 10,\n",
       " 'final_eval_episodes': 100,\n",
       " 'env_frame_size': 64,\n",
       " 'env_frame_skip': 4,\n",
       " 'env_frame_stack': 4,\n",
       " 'env_grayscale': True,\n",
       " 'env_noop_max': 30,\n",
       " 'env_time_limit': 2700,\n",
       " 'env_episodic_lives': True,\n",
       " 'env_reward_transform': 'tanh',\n",
       " 'env_discount_factor': 0.99,\n",
       " 'env_discount_lambda': 0.95,\n",
       " 'wm_batch_size': 100,\n",
       " 'wm_sequence_length': 16,\n",
       " 'wm_train_steps': 1,\n",
       " 'wm_memory_length': 16,\n",
       " 'wm_discount_threshold': 0.1,\n",
       " 'z_categoricals': 32,\n",
       " 'z_categories': 32,\n",
       " 'obs_channels': 48,\n",
       " 'obs_act': 'silu',\n",
       " 'obs_norm': 'none',\n",
       " 'obs_dropout': 0,\n",
       " 'obs_lr': 0.0001,\n",
       " 'obs_wd': 1e-06,\n",
       " 'obs_eps': 1e-05,\n",
       " 'obs_grad_clip': 100,\n",
       " 'obs_entropy_coef': 5,\n",
       " 'obs_entropy_threshold': 0.1,\n",
       " 'obs_consistency_coef': 0.01,\n",
       " 'obs_decoder_coef': 1,\n",
       " 'dyn_embed_dim': 256,\n",
       " 'dyn_num_heads': 4,\n",
       " 'dyn_num_layers': 10,\n",
       " 'dyn_feedforward_dim': 1024,\n",
       " 'dyn_head_dim': 64,\n",
       " 'dyn_z_dims': [512, 512, 512, 512],\n",
       " 'dyn_reward_dims': [256, 256, 256, 256],\n",
       " 'dyn_discount_dims': [256, 256, 256, 256],\n",
       " 'dyn_input_rewards': True,\n",
       " 'dyn_input_discounts': False,\n",
       " 'dyn_act': 'silu',\n",
       " 'dyn_norm': 'none',\n",
       " 'dyn_dropout': 0.1,\n",
       " 'dyn_lr': 0.0001,\n",
       " 'dyn_wd': 1e-06,\n",
       " 'dyn_eps': 1e-05,\n",
       " 'dyn_grad_clip': 100,\n",
       " 'dyn_z_coef': 1,\n",
       " 'dyn_reward_coef': 10,\n",
       " 'dyn_discount_coef': 50,\n",
       " 'ac_batch_size': 400,\n",
       " 'ac_horizon': 15,\n",
       " 'ac_act': 'silu',\n",
       " 'ac_norm': 'none',\n",
       " 'ac_dropout': 0,\n",
       " 'ac_input_h': False,\n",
       " 'ac_h_norm': 'none',\n",
       " 'ac_normalize_advantages': False,\n",
       " 'actor_dims': [512, 512, 512, 512],\n",
       " 'actor_lr': 0.0001,\n",
       " 'actor_eps': 1e-05,\n",
       " 'actor_wd': 1e-06,\n",
       " 'actor_entropy_coef': 0.01,\n",
       " 'actor_entropy_threshold': 0.1,\n",
       " 'actor_grad_clip': 1,\n",
       " 'critic_dims': [512, 512, 512, 512],\n",
       " 'critic_lr': 1e-05,\n",
       " 'critic_eps': 1e-05,\n",
       " 'critic_wd': 1e-06,\n",
       " 'critic_grad_clip': 1,\n",
       " 'critic_target_interval': 1,\n",
       " 'game': 'Breakout'}"
      ]
     },
     "execution_count": 8,
     "metadata": {},
     "output_type": "execute_result"
    }
   ],
   "source": [
    "from copy import deepcopy\n",
    "config = deepcopy(CONFIGS['test'])\n",
    "config.update({\n",
    "    'game': 'Breakout', \n",
    "    # 'seed': args.seed, 'model_device': args.device, 'buffer_device': buffer_device,\n",
    "    # 'cpu_p': args.cpu_p, 'save': args.save\n",
    "})\n",
    "config"
   ]
  },
  {
   "cell_type": "code",
   "execution_count": 12,
   "metadata": {},
   "outputs": [
    {
     "data": {
      "text/plain": [
       "(4, 64, 64)"
      ]
     },
     "execution_count": 12,
     "metadata": {},
     "output_type": "execute_result"
    }
   ],
   "source": [
    "noop_max = 0 if eval else config['env_noop_max']\n",
    "env = utils.create_atari_env(\n",
    "    config['game'], noop_max, config['env_frame_skip'], config['env_frame_stack'],\n",
    "    config['env_frame_size'], config['env_episodic_lives'], config['env_grayscale'], config['env_time_limit'])\n",
    "obs, _ = env.reset()\n",
    "obs.shape"
   ]
  },
  {
   "cell_type": "code",
   "execution_count": 29,
   "metadata": {},
   "outputs": [
    {
     "name": "stderr",
     "output_type": "stream",
     "text": [
      "/media/wassname/SGIronWolf/projects5/worldmodels/twm/.venv/lib/python3.9/site-packages/jax/_src/numpy/array_methods.py:68: UserWarning: Explicitly requested dtype <class 'jax.numpy.int64'> requested in astype is not available, and will be truncated to dtype int32. To enable more dtypes, set the jax_enable_x64 configuration option or the JAX_ENABLE_X64 shell environment variable. See https://github.com/google/jax#current-gotchas for more.\n",
      "  return lax_numpy.astype(arr, dtype, copy=copy, device=device)\n"
     ]
    },
    {
     "data": {
      "text/plain": [
       "((),\n",
       " (8268,),\n",
       " Array(0., dtype=float32),\n",
       " Array(False, dtype=bool),\n",
       " {'discount': Array(1., dtype=float32, weak_type=True)})"
      ]
     },
     "execution_count": 29,
     "metadata": {},
     "output_type": "execute_result"
    }
   ],
   "source": [
    "# Create environment\n",
    "from craftax.craftax_env import make_craftax_env_from_name\n",
    "env = make_craftax_env_from_name(\"Craftax-Symbolic-v1\", auto_reset=True)\n",
    "env_params = env.default_params\n",
    "\n",
    "import jax\n",
    "rng = jax.random.PRNGKey(0)\n",
    "rng, _rng = jax.random.split(rng)\n",
    "rngs = jax.random.split(_rng, 3)\n",
    "rngs\n",
    "\n",
    "# Get an initial state and observation\n",
    "obs, state = env.reset(rngs[0], env_params)\n",
    "\n",
    "# Pick random action\n",
    "action = env.action_space(env_params).sample(rngs[1])\n",
    "\n",
    "# Step environment\n",
    "obs, state, reward, done, info = env.step(rngs[2], state, action, env_params)\n",
    "\n",
    "action.shape, obs.shape, reward, done, info"
   ]
  },
  {
   "cell_type": "code",
   "execution_count": 19,
   "metadata": {},
   "outputs": [
    {
     "data": {
      "text/plain": [
       "Array([4146024105,  967050713], dtype=uint32)"
      ]
     },
     "execution_count": 19,
     "metadata": {},
     "output_type": "execute_result"
    }
   ],
   "source": []
  },
  {
   "cell_type": "code",
   "execution_count": null,
   "metadata": {},
   "outputs": [],
   "source": []
  }
 ],
 "metadata": {
  "kernelspec": {
   "display_name": ".venv",
   "language": "python",
   "name": "python3"
  },
  "language_info": {
   "codemirror_mode": {
    "name": "ipython",
    "version": 3
   },
   "file_extension": ".py",
   "mimetype": "text/x-python",
   "name": "python",
   "nbconvert_exporter": "python",
   "pygments_lexer": "ipython3",
   "version": "3.9.16"
  }
 },
 "nbformat": 4,
 "nbformat_minor": 2
}
